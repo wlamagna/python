{
 "cells": [
  {
   "cell_type": "code",
   "execution_count": null,
   "id": "481c999e",
   "metadata": {},
   "outputs": [],
   "source": [
    "import pandas as pd\n",
    "\n",
    "days_to_interview = [40,16,15,22,6,8,1,0,3,12,6,1,4]\n",
    "df = pd.DataFrame(days_to_interview)\n",
    "df.boxplot()\n"
   ]
  }
 ],
 "metadata": {
  "kernelspec": {
   "display_name": "Python 3",
   "language": "python",
   "name": "python3"
  },
  "language_info": {
   "codemirror_mode": {
    "name": "ipython",
    "version": 3
   },
   "file_extension": ".py",
   "mimetype": "text/x-python",
   "name": "python",
   "nbconvert_exporter": "python",
   "pygments_lexer": "ipython3",
   "version": "3.11.2"
  }
 },
 "nbformat": 4,
 "nbformat_minor": 5
}
