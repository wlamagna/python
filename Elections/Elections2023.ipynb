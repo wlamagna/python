{
 "cells": [
  {
   "cell_type": "markdown",
   "id": "6a755571",
   "metadata": {},
   "source": [
    "Government of the Buenos Aires City Elections of President and Vice President.\n",
    "\n",
    "Data set from: https://data.buenosaires.gob.ar/dataset/elecciones-2023 "
   ]
  },
  {
   "cell_type": "code",
   "execution_count": null,
   "id": "1d524a38",
   "metadata": {},
   "outputs": [],
   "source": [
    "import pandas as pd\n",
    "\n",
    "results = pd.read_csv(\"elecciones_generales_provisorio_2023.csv\", sep=\";\")\n",
    "\n",
    "print(results.info())\n",
    "\n",
    "print(results.describe())\n",
    "\n"
   ]
  }
 ],
 "metadata": {
  "kernelspec": {
   "display_name": "Python 3",
   "language": "python",
   "name": "python3"
  },
  "language_info": {
   "codemirror_mode": {
    "name": "ipython",
    "version": 3
   },
   "file_extension": ".py",
   "mimetype": "text/x-python",
   "name": "python",
   "nbconvert_exporter": "python",
   "pygments_lexer": "ipython3",
   "version": "3.13.2"
  }
 },
 "nbformat": 4,
 "nbformat_minor": 5
}
